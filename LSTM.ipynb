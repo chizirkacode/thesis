{
 "cells": [
  {
   "cell_type": "code",
   "execution_count": 56,
   "id": "a881d59e",
   "metadata": {},
   "outputs": [],
   "source": [
    "import pandas as pd\n",
    "import tensorflow as tf\n",
    "from tensorflow import keras\n",
    "from tensorflow.keras import layers\n",
    "from tensorflow.python.compiler import tensorrt as trt\n",
    "from tensorflow.keras.datasets import imdb\n",
    "from tensorflow.keras.layers import Embedding, Dense, LSTM\n",
    "from tensorflow.keras.losses import BinaryCrossentropy\n",
    "from tensorflow.keras.models import Sequential\n",
    "from tensorflow.keras.optimizers import Adam\n",
    "from tensorflow.keras.preprocessing.sequence import pad_sequences\n",
    "from tensorflow.python.ops import rnn, rnn_cell\n",
    "import tensorflow.compat.v1 as tfv\n",
    "tfv.disable_v2_behavior()"
   ]
  },
  {
   "cell_type": "code",
   "execution_count": 57,
   "id": "1102122e",
   "metadata": {},
   "outputs": [
    {
     "name": "stdout",
     "output_type": "stream",
     "text": [
      "       FTHG      FTAG  HomeStreak5  AwayStreak5  HomeStreak3  AwayStreak3  \\\n",
      "0  0.285714  0.285714          0.0          0.0          0.0          0.0   \n",
      "1  0.142857  0.428571          0.0          0.0          0.0          0.0   \n",
      "2  0.000000  0.000000          0.0          0.0          0.0          0.0   \n",
      "3  0.285714  0.285714          0.0          0.0          0.0          0.0   \n",
      "4  0.285714  0.000000          0.0          0.0          0.0          0.0   \n",
      "\n",
      "   PointsHome  PointsAway  HomeResult5  AwayResult5  ...  DifH  DifA  \\\n",
      "0         0.0         0.0          0.0          0.0  ...   0.0   0.0   \n",
      "1         0.0         0.0          0.0          0.0  ...   0.0   0.0   \n",
      "2         0.0         0.0          0.0          0.0  ...   0.0   0.0   \n",
      "3         0.0         0.0          0.0          0.0  ...   0.0   0.0   \n",
      "4         0.0         0.0          0.0          0.0  ...   0.0   0.0   \n",
      "\n",
      "   DifPoints  HV5  AV5  HV3  AV3  Type_is_A  Type_is_D  Type_is_H  \n",
      "0        0.0    0    0    0    0          0          1          0  \n",
      "1        0.0    0    0    0    0          1          0          0  \n",
      "2        0.0    0    0    0    0          0          1          0  \n",
      "3        0.0    0    0    0    0          0          1          0  \n",
      "4        0.0    0    0    0    0          0          0          1  \n",
      "\n",
      "[5 rows x 24 columns]\n",
      "(2660, 24)\n"
     ]
    }
   ],
   "source": [
    "data_tr=pd.read_csv(r\"C:\\Users\\orlovskaia\\Desktop\\TESI\\CODE\\data_tr.csv\")\n",
    "data_test=pd.read_csv(r\"C:\\Users\\orlovskaia\\Desktop\\TESI\\CODE\\data_test.csv\")\n",
    "print(data_tr.head())\n",
    "print(data_tr.shape)"
   ]
  },
  {
   "cell_type": "code",
   "execution_count": 62,
   "id": "2b3e509e",
   "metadata": {},
   "outputs": [
    {
     "name": "stdout",
     "output_type": "stream",
     "text": [
      "transpose Tensor(\"transpose_12:0\", shape=(1, ?, 24), dtype=float32)\n",
      "reshape Tensor(\"Reshape_12:0\", shape=(?, 24), dtype=float32)\n",
      "split [<tf.Tensor 'split_11:0' shape=(?, 24) dtype=float32>]\n"
     ]
    }
   ],
   "source": [
    "hm_epochs= 20\n",
    "n_classes = 2\n",
    "batch_size = 1\n",
    "chunk_size=24\n",
    "n_chunks=1\n",
    "rnn_size=64\n",
    "\n",
    "x = tfv.placeholder('float', [None, n_chunks, chunk_size])\n",
    "y = tfv.placeholder('float')\n",
    "\n",
    "def recurrent_neural_model(x): layer = {'weights':tf.Variable(tf.random_normal([rnn_size,n_classes])), 'biases':tf.Variable(tf.random_normal([n_classes]))}\n",
    "\n",
    "x=tfv.transpose(x,[1,0,2])\n",
    "\n",
    "print(\"transpose\",x)\n",
    "\n",
    "x=tfv.reshape(x,[-1,chunk_size])\n",
    "\n",
    "print(\"reshape\",x)\n",
    "\n",
    "x=tfv.split(x,n_chunks)\n",
    "\n",
    "print(\"split\",x)\n",
    "\n",
    "# Use tf.compat.v1.nn.rnn_cell.LSTMCell = tf.keras.layers.LSTMCell instead of tf.contrib.rnn.LSTMCell \n",
    "\n",
    "lstm_cell = tf.keras.layers.LSTMCell(rnn_size) # generate prediction\n",
    "outputs, states = rnn.static_rnn(lstm_cell, x, dtype=tf.float32)\n",
    "\n",
    "\n"
   ]
  },
  {
   "cell_type": "code",
   "execution_count": 63,
   "id": "928be656",
   "metadata": {},
   "outputs": [],
   "source": []
  },
  {
   "cell_type": "code",
   "execution_count": 11,
   "id": "8e488fc0",
   "metadata": {},
   "outputs": [
    {
     "name": "stdout",
     "output_type": "stream",
     "text": [
      "split [<tf.Tensor 'split:0' shape=(?, 24) dtype=float32>]\n"
     ]
    }
   ],
   "source": []
  },
  {
   "cell_type": "code",
   "execution_count": 39,
   "id": "1be046a0",
   "metadata": {},
   "outputs": [
    {
     "ename": "NameError",
     "evalue": "name 'layer' is not defined",
     "output_type": "error",
     "traceback": [
      "\u001b[1;31m---------------------------------------------------------------------------\u001b[0m",
      "\u001b[1;31mNameError\u001b[0m                                 Traceback (most recent call last)",
      "Input \u001b[1;32mIn [39]\u001b[0m, in \u001b[0;36m<cell line: 5>\u001b[1;34m()\u001b[0m\n\u001b[0;32m      3\u001b[0m lstm_cell \u001b[38;5;241m=\u001b[39m tf\u001b[38;5;241m.\u001b[39mkeras\u001b[38;5;241m.\u001b[39mlayers\u001b[38;5;241m.\u001b[39mLSTMCell(rnn_size) \u001b[38;5;66;03m# generate prediction\u001b[39;00m\n\u001b[0;32m      4\u001b[0m outputs, states \u001b[38;5;241m=\u001b[39m rnn\u001b[38;5;241m.\u001b[39mstatic_rnn(lstm_cell, x, dtype\u001b[38;5;241m=\u001b[39mtf\u001b[38;5;241m.\u001b[39mfloat32)\n\u001b[1;32m----> 5\u001b[0m output \u001b[38;5;241m=\u001b[39m tf\u001b[38;5;241m.\u001b[39mmatmul(outputs[\u001b[38;5;241m-\u001b[39m\u001b[38;5;241m1\u001b[39m],\u001b[43mlayer\u001b[49m[\u001b[38;5;124m'\u001b[39m\u001b[38;5;124mweights\u001b[39m\u001b[38;5;124m'\u001b[39m]) \u001b[38;5;241m+\u001b[39m layer[\u001b[38;5;124m'\u001b[39m\u001b[38;5;124mbiases\u001b[39m\u001b[38;5;124m'\u001b[39m]\n\u001b[0;32m      6\u001b[0m \u001b[38;5;28;01mreturn\u001b[39;00m output\n",
      "\u001b[1;31mNameError\u001b[0m: name 'layer' is not defined"
     ]
    }
   ],
   "source": []
  },
  {
   "cell_type": "code",
   "execution_count": 37,
   "id": "0d140e18",
   "metadata": {},
   "outputs": [],
   "source": []
  }
 ],
 "metadata": {
  "kernelspec": {
   "display_name": "Python 3 (ipykernel)",
   "language": "python",
   "name": "python3"
  },
  "language_info": {
   "codemirror_mode": {
    "name": "ipython",
    "version": 3
   },
   "file_extension": ".py",
   "mimetype": "text/x-python",
   "name": "python",
   "nbconvert_exporter": "python",
   "pygments_lexer": "ipython3",
   "version": "3.10.2"
  }
 },
 "nbformat": 4,
 "nbformat_minor": 5
}
